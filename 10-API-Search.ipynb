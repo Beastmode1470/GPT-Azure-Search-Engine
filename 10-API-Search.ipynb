{
 "cells": [
  {
   "cell_type": "markdown",
   "id": "66ab3cc5-aee4-415a-9391-1e5d37ccaf1d",
   "metadata": {},
   "source": [
    "# Skill 5: API Search - Make our bot to talk to any API"
   ]
  },
  {
   "cell_type": "markdown",
   "id": "306fc0a9-4044-441d-9ba7-f54f32e6ea9f",
   "metadata": {},
   "source": [
    "We have observed the remarkable synergy created by combining **GPT llms with intelligent agents and detailed prompts**. This powerful combination has consistently delivered impressive results. To further capitalize on this capability, we should aim to integrate it with various systems through API communication. Essentially, we can develop within this notebook what is referred to in OpenAI's ChatGPT as 'GPTs.'\n",
    "\n",
    "Envision a bot that seamlessly integrates with:\n",
    "\n",
    "- **CRM Systems:** Including Dynamics, Salesforce, and HubSpot.\n",
    "- **ERP Systems:** Such as SAP, Dynamics, and Oracle.\n",
    "- **CMS Systems:** Including Adobe, Oracle, and other content management platforms.\n",
    "\n",
    "The objective is to connect our bot with data repositories, minimizing data duplication as much as possible. These systems typically offer APIs, facilitating programmatic data access.\n",
    "\n",
    "In this notebook, we plan to develop an agent capable of querying an API to retrieve information and effectively answer questions.\n",
    "This time we are going to use an open API for currency and digital coins pricing: https://docs.kraken.com/rest/#tag/Market-Data"
   ]
  },
  {
   "cell_type": "code",
   "execution_count": 1,
   "id": "c1fb79a3-4856-4721-988c-112813690a90",
   "metadata": {
    "tags": []
   },
   "outputs": [],
   "source": [
    "import os\n",
    "import json\n",
    "import requests\n",
    "from pydantic import BaseModel \n",
    "\n",
    "from langchain_openai import AzureChatOpenAI\n",
    "from langchain_core.tools import BaseTool, StructuredTool\n",
    "from langchain_community.agent_toolkits.openapi.toolkit import RequestsToolkit\n",
    "from langchain_community.utilities.requests import RequestsWrapper, TextRequestsWrapper\n",
    "\n",
    "from langgraph.prebuilt import create_react_agent\n",
    "\n",
    "from common.utils import num_tokens_from_string, reduce_openapi_spec\n",
    "from common.prompts import APISEARCH_PROMPT_TEXT\n",
    "\n",
    "from IPython.display import Markdown, HTML, display  \n",
    "\n",
    "from dotenv import load_dotenv\n",
    "load_dotenv(\"credentials.env\")\n",
    "\n",
    "def printmd(string):\n",
    "    display(Markdown(string.replace(\"$\",\"USD \")))\n"
   ]
  },
  {
   "cell_type": "code",
   "execution_count": 2,
   "id": "258a6e99-2d4f-4147-b8ee-c64c85296181",
   "metadata": {
    "tags": []
   },
   "outputs": [],
   "source": [
    "# Set the ENV variables that Langchain needs to connect to Azure OpenAI\n",
    "os.environ[\"OPENAI_API_VERSION\"] = os.environ[\"AZURE_OPENAI_API_VERSION\"]"
   ]
  },
  {
   "cell_type": "code",
   "execution_count": 3,
   "id": "9d3daf03-77e2-466e-a255-2f06bee3561b",
   "metadata": {
    "tags": []
   },
   "outputs": [],
   "source": [
    "COMPLETION_TOKENS = 2000\n",
    "\n",
    "# This notebook needs GPT-4-Turbo (context size of 128k tokens)\n",
    "llm = AzureChatOpenAI(deployment_name=os.environ[\"GPT4o_DEPLOYMENT_NAME\"], \n",
    "                      temperature=0.5, max_tokens=COMPLETION_TOKENS, \n",
    "                      streaming=True)"
   ]
  },
  {
   "cell_type": "markdown",
   "id": "9cc03401-a5a9-455b-bf17-07da2005e61f",
   "metadata": {},
   "source": [
    "## The Logic"
   ]
  },
  {
   "cell_type": "markdown",
   "id": "ebe42eda-3e74-4114-bd25-2473593cc1b4",
   "metadata": {},
   "source": [
    "By now, you must infer that the solution for an API Agent has to be something like: give the API specification as part of the system prompt to the LLM , then let a graph agent plan for the right steps to formulate the API calls.<br>\n",
    "\n",
    "Let's do that. But we must first understand the industry standards of Swagger/OpenAPI\n"
   ]
  },
  {
   "cell_type": "markdown",
   "id": "1e8e0b32-a6b5-4b1c-943d-e57b737213fa",
   "metadata": {},
   "source": [
    "## Introduction to OpenAPI (formerly Swagger)"
   ]
  },
  {
   "cell_type": "markdown",
   "id": "003327ac-2851-48ef-8a6b-2d8c2004bb2e",
   "metadata": {},
   "source": [
    "The OpenAPI Specification, previously known as the Swagger Specification, is a specification for a machine-readable interface definition language for describing, producing, consuming and visualizing web services. Previously part of the Swagger framework, it became a separate project in 2016, overseen by the OpenAPI Initiative, an open-source collaboration project of the Linux Foundation.\n",
    "\n",
    "OpenAPI Specification is an API description format for REST APIs. An OpenAPI file allows you to describe your entire API, including: Available endpoints (/users for example) and operations on each endpoint ( GET /users, POST /users), description, contact information, license, terms of use and other information."
   ]
  },
  {
   "cell_type": "markdown",
   "id": "a1902af5-f889-4bcf-85e0-1b601bd2ce47",
   "metadata": {},
   "source": [
    "### Let's get the OpenAPI (Swagger) spec from our desired API that we want to talk to\n",
    "You can also download it from the Kraken website: https://docs.kraken.com/rest/"
   ]
  },
  {
   "cell_type": "markdown",
   "id": "dd3cab16-e71d-4652-ab27-7b0704365454",
   "metadata": {},
   "source": [
    "Let's see how big is this API specification:"
   ]
  },
  {
   "cell_type": "code",
   "execution_count": 4,
   "id": "03e6ab7d-4493-466e-8771-21e75381b986",
   "metadata": {
    "tags": []
   },
   "outputs": [],
   "source": [
    "LOCAL_FILE_PATH = \"./data/openapi_kraken.json\""
   ]
  },
  {
   "cell_type": "code",
   "execution_count": 5,
   "id": "e4c2e7ca-a9ed-446f-b4db-b8d558f7e1d9",
   "metadata": {
    "tags": []
   },
   "outputs": [],
   "source": [
    "# Open and read the JSON file\n",
    "with open(LOCAL_FILE_PATH, 'r') as file:\n",
    "    spec = json.load(file)"
   ]
  },
  {
   "cell_type": "code",
   "execution_count": 6,
   "id": "94503afc-c398-458a-b369-610c5dbe682d",
   "metadata": {
    "tags": []
   },
   "outputs": [],
   "source": [
    "# You can check the function \"reduce_openapi_spec()\" in utils.py\n",
    "reduced_api_spec = reduce_openapi_spec(spec)"
   ]
  },
  {
   "cell_type": "code",
   "execution_count": 7,
   "id": "57d77e9b-6f3f-4ec4-bc01-baac18984937",
   "metadata": {
    "tags": []
   },
   "outputs": [
    {
     "name": "stdout",
     "output_type": "stream",
     "text": [
      "API spec size in tokens: 66625\n",
      "Reduced API spec size in tokens: 57394\n"
     ]
    }
   ],
   "source": [
    "api_tokens = num_tokens_from_string(str(spec))\n",
    "print(\"API spec size in tokens:\",api_tokens)\n",
    "api_tokens = num_tokens_from_string(str(reduced_api_spec))\n",
    "print(\"Reduced API spec size in tokens:\",api_tokens)"
   ]
  },
  {
   "cell_type": "markdown",
   "id": "d8b95356-587d-43ca-982f-500779078482",
   "metadata": {},
   "source": [
    "Sometimes it makes sense to reduce the size of the API Specs by using the `reduce_openapi_spec` function. It's optional."
   ]
  },
  {
   "cell_type": "markdown",
   "id": "cd8c3b3e-959e-4b19-b34d-66de3501b1b1",
   "metadata": {},
   "source": [
    "#### NOTE: As you can see, a large context LLM is needed. `GPT4` or newer models are necessary for this notebook to run succesfully."
   ]
  },
  {
   "cell_type": "markdown",
   "id": "9a945386-39eb-405d-9310-3b67c9af77bb",
   "metadata": {},
   "source": [
    "### Define Tools"
   ]
  },
  {
   "cell_type": "code",
   "execution_count": 8,
   "id": "ef8b7f43-86ac-4c51-84a5-395c1f2c6db6",
   "metadata": {
    "tags": []
   },
   "outputs": [],
   "source": [
    "# Most of APIs require Authorization tokens, so we construct the headers using a lightweight python request wrapper called RequestsWrapper\n",
    "access_token = \"ABCDEFG123456\" \n",
    "headers = {\"Authorization\": f\"Bearer {access_token}\"}\n",
    "requests_wrapper = RequestsWrapper(headers=headers)\n",
    "\n",
    "toolkit = RequestsToolkit(\n",
    "    requests_wrapper=RequestsWrapper(headers=headers),\n",
    "    allow_dangerous_requests=True,\n",
    ")"
   ]
  },
  {
   "cell_type": "code",
   "execution_count": 9,
   "id": "8475a4a3-48b3-476b-b900-49840e21e463",
   "metadata": {
    "tags": []
   },
   "outputs": [
    {
     "data": {
      "text/plain": [
       "[RequestsGetTool(requests_wrapper=TextRequestsWrapper(headers={'Authorization': 'Bearer ABCDEFG123456'}, aiosession=None, auth=None, response_content_type='text', verify=True), allow_dangerous_requests=True),\n",
       " RequestsPostTool(requests_wrapper=TextRequestsWrapper(headers={'Authorization': 'Bearer ABCDEFG123456'}, aiosession=None, auth=None, response_content_type='text', verify=True), allow_dangerous_requests=True),\n",
       " RequestsPatchTool(requests_wrapper=TextRequestsWrapper(headers={'Authorization': 'Bearer ABCDEFG123456'}, aiosession=None, auth=None, response_content_type='text', verify=True), allow_dangerous_requests=True),\n",
       " RequestsPutTool(requests_wrapper=TextRequestsWrapper(headers={'Authorization': 'Bearer ABCDEFG123456'}, aiosession=None, auth=None, response_content_type='text', verify=True), allow_dangerous_requests=True),\n",
       " RequestsDeleteTool(requests_wrapper=TextRequestsWrapper(headers={'Authorization': 'Bearer ABCDEFG123456'}, aiosession=None, auth=None, response_content_type='text', verify=True), allow_dangerous_requests=True)]"
      ]
     },
     "execution_count": 9,
     "metadata": {},
     "output_type": "execute_result"
    }
   ],
   "source": [
    "toolkit.get_tools()"
   ]
  },
  {
   "cell_type": "code",
   "execution_count": 10,
   "id": "2b536301-3835-4ce0-84e2-4012973b12d1",
   "metadata": {
    "tags": []
   },
   "outputs": [],
   "source": [
    "tools = toolkit.get_tools()"
   ]
  },
  {
   "cell_type": "markdown",
   "id": "b0f4d6a2-2678-4e19-b070-b0a8028bde72",
   "metadata": {},
   "source": [
    "### Define Prompt"
   ]
  },
  {
   "cell_type": "code",
   "execution_count": 12,
   "id": "38b3972b-beca-4068-85c0-a7cda0ded894",
   "metadata": {
    "tags": []
   },
   "outputs": [
    {
     "data": {
      "text/markdown": [
       "\n",
       "\n",
       "# Source of Information\n",
       "- You have access to an API to help answer user queries.\n",
       "- Here is documentation on the API: {api_spec}\n",
       "\n",
       "## On how to use the Tools\n",
       "- You are an agent designed to connect to RestFul APIs.\n",
       "- Given API documentation above, use the right tools to connect to the API.\n",
       "- **ALWAYS** before giving the Final Answer, try another method if available. Then reflect on the answers of the two methods you did and ask yourself if it answers correctly the original question. If you are not sure, try another method.\n",
       "- If you are sure of the correct answer, create a beautiful and thorough response using Markdown.\n",
       "- **DO NOT MAKE UP AN ANSWER OR USE Pre-Existing KNOWLEDGE, ONLY USE THE RESULTS OF THE CALCULATIONS YOU HAVE DONE**. \n",
       "- Only use the output of your code to answer the question. \n"
      ],
      "text/plain": [
       "<IPython.core.display.Markdown object>"
      ]
     },
     "metadata": {},
     "output_type": "display_data"
    }
   ],
   "source": [
    "printmd(APISEARCH_PROMPT_TEXT)"
   ]
  },
  {
   "cell_type": "markdown",
   "id": "82cc97fa-5184-4d43-9b36-a66c04f73a3b",
   "metadata": {
    "tags": []
   },
   "source": [
    "### Create Graph"
   ]
  },
  {
   "cell_type": "code",
   "execution_count": 13,
   "id": "97432e39-965f-4eb1-8dfa-55cdfef5e541",
   "metadata": {
    "tags": []
   },
   "outputs": [],
   "source": [
    "graph = create_react_agent(llm, tools, state_modifier=APISEARCH_PROMPT_TEXT.format(api_spec=reduced_api_spec))"
   ]
  },
  {
   "cell_type": "markdown",
   "id": "24fa45b2-dd42-485b-b77b-ca66fb223e4f",
   "metadata": {},
   "source": [
    "### Run the Graph"
   ]
  },
  {
   "cell_type": "code",
   "execution_count": 17,
   "id": "659d4b36-ca54-4505-aab8-8f6534448408",
   "metadata": {
    "tags": []
   },
   "outputs": [],
   "source": [
    "async def stream_graph_updates_async(graph, user_input: str):\n",
    "    inputs = {\"messages\": [(\"human\", user_input)]}\n",
    "\n",
    "    async for event in graph.astream_events(inputs, version=\"v2\"):\n",
    "        if (event[\"event\"] == \"on_chat_model_stream\"):\n",
    "            # Print the content of the chunk progressively\n",
    "            print(event[\"data\"][\"chunk\"].content, end=\"\", flush=True)\n",
    "        elif (event[\"event\"] == \"on_tool_start\"  ):\n",
    "            print(\"\\n--\")\n",
    "            print(f\"Calling tool: {event['name']} with inputs: {event['data'].get('input')}\")\n",
    "            print(\"--\")"
   ]
  },
  {
   "cell_type": "code",
   "execution_count": 18,
   "id": "d020b5de-7ebe-4fb9-9b71-f6c71956149d",
   "metadata": {
    "tags": []
   },
   "outputs": [],
   "source": [
    "QUESTION = \"\"\"\n",
    "Tell me the price of bitcoin against USD , also the latest OHLC values for Ethereum,\n",
    "also me also the bid and ask for Euro\n",
    "\"\"\""
   ]
  },
  {
   "cell_type": "code",
   "execution_count": 19,
   "id": "fabda1d0-7050-4871-b155-5be9e24a24ff",
   "metadata": {
    "tags": []
   },
   "outputs": [
    {
     "name": "stdout",
     "output_type": "stream",
     "text": [
      "\n",
      "--\n",
      "Calling tool: requests_get with inputs: {'url': 'https://api.kraken.com/0/public/Ticker?pair=XXBTZUSD'}\n",
      "--\n",
      "\n",
      "--\n",
      "Calling tool: requests_get with inputs: {'url': 'https://api.kraken.com/0/public/OHLC?pair=XETHZUSD'}\n",
      "--\n",
      "\n",
      "--\n",
      "Calling tool: requests_get with inputs: {'url': 'https://api.kraken.com/0/public/Depth?pair=ZEURZUSD'}\n",
      "--\n",
      "### Bitcoin (BTC) against USD (XXBTZUSD)\n",
      "\n",
      "- **Current Price:** $67,674.10\n",
      "- **Volume (24h):** 1419.88 BTC\n",
      "- **Opening Price:** $68,748.70\n",
      "- **High (24h):** $69,430.60\n",
      "- **Low (24h):** $67,213.00\n",
      "\n",
      "### Ethereum (ETH) OHLC values against USD (XETHZUSD)\n",
      "\n",
      "The latest OHLC (Open, High, Low, Close) values for Ethereum are as follows:\n",
      "\n",
      "- **Open:** $2,463.00\n",
      "- **High:** $2,465.69\n",
      "- **Low:** $2,463.00\n",
      "- **Close:** $2,465.69\n",
      "\n",
      "### Euro (EUR) Bid and Ask Prices against USD (ZEURZUSD)\n",
      "\n",
      "- **Bid Price:** $1.08867\n",
      "- **Ask Price:** $1.08868\n",
      "\n",
      "These values provide a snapshot of the current market conditions for Bitcoin, Ethereum, and Euro against USD. If you need further details or more specific information, feel free to ask!"
     ]
    }
   ],
   "source": [
    "await stream_graph_updates_async(graph, QUESTION)"
   ]
  },
  {
   "cell_type": "markdown",
   "id": "73027201-d6e2-4aa0-a480-934c53ae4eb8",
   "metadata": {},
   "source": [
    "**Great!!** we have now an API Agent, capable of reasoning until it can find the answer given an API documentation."
   ]
  },
  {
   "cell_type": "markdown",
   "id": "e9ba3e35-8021-4262-8494-d1aee3862f7e",
   "metadata": {},
   "source": [
    "## Simple APIs\n",
    "\n",
    "What happens if the API is quite basic, meaning it's just a simple endpoint without a Swagger/OpenAPI definition? Let’s consider the following example:\n",
    "\n",
    "[CountdownAPI](https://www.countdownapi.com/) is a streamlined version of the eBay API, available as a paid service. We can test it using their demo query, which does not require any Swagger or OpenAPI specification. In this scenario, our main task is to create a tool that retrieves the results. We then pass these results to an agent for analysis, providing answers to user queries, similar to our approach with the Bing Search agent.\n",
    "\n",
    "In the example below, there is no API specification, but the response from the API is rather lengthy."
   ]
  },
  {
   "cell_type": "code",
   "execution_count": 20,
   "id": "9782fafa-9453-46be-b9d7-b33088f61ac8",
   "metadata": {
    "tags": []
   },
   "outputs": [
    {
     "name": "stdout",
     "output_type": "stream",
     "text": [
      "Token count: 16972 \n",
      "\n",
      "{\"request_info\": {\"success\": true, \"demo\": true}, \"request_parameters\": {\"type\": \"search\", \"ebay_domain\": \"ebay.com\", \"search_term\": \"memory cards\"}, \"request_metadata\": {\"ebay_url\": \"https://www.ebay.com/sch/i.html?_nkw=memory+cards&_sacat=0&_dmd=1&_fcid=1\"}, \"search_results\": [{\"position\": 1, \"title\": \"Sandisk Micro SD Card Memory 32GB 64GB 128GB 256GB 512GB 1TB Lot Extreme Ultra\", \"epid\": \"203914554350\", \"link\": \"https://www.ebay.com/itm/203914554350\", \"image\": \"https://i.ebayimg.com/images/g/A7wAAOSwemNjTz~l/s-l500.jpg\", \"condition\": \"Brand New\", \"seller_info\": {\"name\": \"terashack\", \"review_count\": 63329, \"positive_feedback_percent\": 99.9}, \"is_auction\": false, \"buy_it_now\": true, \"free_returns\": true, \"sponsored\": true, \"prices\": [{\"value\": 9.95, \"raw\": \"$9.95\"}, {\"value\": 484.5, \"raw\": \"$484.50\"}], \"price\": {\"value\": 9.95, \"raw\": \"$9.95\"}}, {\"position\": 2, \"title\": \"Sandisk Micro SD Card Ultra TF Memory 32GB 64GB 128GB 256GB 512GB 1TB 1.5TB\", \"epid\": \"203916910977\", \"link\": \"https://www.ebay.com/itm/203916910977\", \"image\": \"https://i.ebayimg.com/images/g/THMAAOSwEYliXJ-F/s-l500.jpg\", \"condition\": \"Brand New\", \"seller_info\": {\"name\": \"terashack\", \"review_count\": 63329, \"positive_feedback_percent\": 99.9}, \"is_auction\": false, \"buy_it_now\": true, \"free_returns\": true, \"sponsored\": true, \"prices\": [{\"value\": 9.95, \"raw\": \"$9.95\"}, {\"value\": 195.99, \"raw\": \"$195.99\"}], \"price\": {\"value\": 9.95, \"raw\": \"$9.95\"}}, {\"position\": 3, \"title\": \"1-10PAck Lot 16GB 32GB 64GB 128GB 256GB Ultra Micro SD Class 10 TF Memory Card\", \"epid\": \"276464876462\", \"link\": \"https://www.ebay.com/itm/276464876462\", \"image\": \"https://i.ebayimg.com/images/g/-g8AAOSwVj1mQba7/s-l140.jpg\", \"condition\": \"Brand New\", \"seller_info\": {\"name\": \"ufd2015\", \"review_count\": 30218, \"positive_feedback_percent\": 99}, \"is_auction\": false, \"buy_it_now\": true, \"free_returns\": true, \"sponsored\": true, \"prices\": [{\"value\": 4.99, \"raw\": \"$4.99\"}, {\"value\": 170.99, \"raw\": \"$170.99\"}], \"price\": {\"value\": 4.99, \"raw\": ...\n"
     ]
    }
   ],
   "source": [
    "# set up the request parameters\n",
    "params = {\n",
    "  'api_key': 'demo',\n",
    "  'type': 'search',\n",
    "  'ebay_domain': 'ebay.com',\n",
    "  'search_term': 'memory cards'\n",
    "}\n",
    "\n",
    "# make the http GET request to Countdown API\n",
    "api_result = requests.get('https://api.countdownapi.com/request', params)\n",
    "\n",
    "num_tokens = num_tokens_from_string(str(api_result.json())) # this is a custom function we created in common/utils.py\n",
    "print(\"Token count:\",num_tokens,\"\\n\")  \n",
    "\n",
    "# print the first 2000 characters of JSON response from Countdown API\n",
    "print(json.dumps(api_result.json())[:2000], \"...\")"
   ]
  },
  {
   "cell_type": "markdown",
   "id": "57cf8aaa-9a16-48ad-9846-bbacec82d52f",
   "metadata": {},
   "source": [
    "So, the answer from this product query (the demo only works with 'memory cards' - you will need to sign up for their trial if you want to try any query with an API key), is about ~17k tokens. When combined with the prompt, we won't have any other option than to use GPT-4 models. "
   ]
  },
  {
   "cell_type": "markdown",
   "id": "a7280427-688a-45c4-bf98-d1d392cdfe9c",
   "metadata": {},
   "source": [
    "### Define a custom tool to call the API endpoint"
   ]
  },
  {
   "cell_type": "code",
   "execution_count": 21,
   "id": "67c51a32-13f5-4802-84cd-ce40b397cb1b",
   "metadata": {
    "tags": []
   },
   "outputs": [],
   "source": [
    "class MySimpleAPISearch(BaseTool):\n",
    "    \"\"\"Tool for simple API calls that doesn't require OpenAPI 3.0 specs\"\"\"\n",
    "    \n",
    "    name = \"apisearch\"\n",
    "    description = \"useful when the questions includes the term: apisearch.\\n\"\n",
    "\n",
    "    api_key: str\n",
    "    \n",
    "    def _run(self, query: str) -> str:\n",
    "        \n",
    "        params = {\n",
    "          'api_key': self.api_key,\n",
    "          'type': 'search',\n",
    "          'ebay_domain': 'ebay.com',\n",
    "          'search_term': query\n",
    "        }\n",
    "\n",
    "        # make the http GET request to Countdown API\n",
    "        api_result = requests.get('https://api.countdownapi.com/request', params)\n",
    "        \n",
    "        try:\n",
    "            response = json.dumps(api_result.json())\n",
    "        except Exception as e:\n",
    "            response = e\n",
    "        \n",
    "        return response\n",
    "            \n",
    "    async def _arun(self, query: str) -> str:\n",
    "        \"\"\"Use the tool asynchronously.\"\"\"\n",
    "        raise NotImplementedError(\"This Tool does not support async\")"
   ]
  },
  {
   "cell_type": "code",
   "execution_count": 23,
   "id": "c0daa409-a196-4eae-aaac-b4545d0e3280",
   "metadata": {
    "tags": []
   },
   "outputs": [],
   "source": [
    "tools = [MySimpleAPISearch(api_key='demo')]\n",
    "graph = create_react_agent(llm, tools, state_modifier=APISEARCH_PROMPT_TEXT.format(api_spec=\"API provided by the tool\"))"
   ]
  },
  {
   "cell_type": "markdown",
   "id": "c6a0f773-7957-469a-a8bc-911a68ce0b98",
   "metadata": {},
   "source": [
    "This time let's use the .stream() method "
   ]
  },
  {
   "cell_type": "code",
   "execution_count": 24,
   "id": "64d77691-e29a-45b2-a045-da755d9c7d8b",
   "metadata": {
    "tags": []
   },
   "outputs": [],
   "source": [
    "QUESTION = 'what is the price for SanDisk \"memory cards\"? give me the links please'"
   ]
  },
  {
   "cell_type": "code",
   "execution_count": 25,
   "id": "71a1d824-7257-4a6b-8b0c-cd5176136ac7",
   "metadata": {
    "tags": []
   },
   "outputs": [],
   "source": [
    "def print_stream(stream):\n",
    "    for s in stream:\n",
    "        message = s[\"messages\"][-1]\n",
    "        if isinstance(message, tuple):\n",
    "            print(message)\n",
    "        else:\n",
    "            message.pretty_print()"
   ]
  },
  {
   "cell_type": "code",
   "execution_count": 26,
   "id": "64fa79ee-9a50-4ddf-a87e-c0c28615ce4e",
   "metadata": {
    "tags": []
   },
   "outputs": [
    {
     "name": "stdout",
     "output_type": "stream",
     "text": [
      "================================\u001b[1m Human Message \u001b[0m=================================\n",
      "\n",
      "what is the price for SanDisk \"memory cards\"? give me the links please\n",
      "==================================\u001b[1m Ai Message \u001b[0m==================================\n",
      "Tool Calls:\n",
      "  apisearch (call_32ya1otSTV9UP4BXvaqCfWpc)\n",
      " Call ID: call_32ya1otSTV9UP4BXvaqCfWpc\n",
      "  Args:\n",
      "    query: SanDisk memory cards\n",
      "=================================\u001b[1m Tool Message \u001b[0m=================================\n",
      "Name: apisearch\n",
      "\n",
      "{\"request_info\": {\"success\": true, \"demo\": true}, \"request_parameters\": {\"type\": \"search\", \"ebay_domain\": \"ebay.com\", \"search_term\": \"SanDisk memory cards\"}, \"request_metadata\": {\"ebay_url\": \"https://www.ebay.com/sch/i.html?_nkw=SanDisk+memory+cards&_sacat=0&_dmd=1&_fcid=1\"}, \"search_results\": [{\"position\": 1, \"title\": \"Sandisk Micro SD Card 128GB 256GB Extreme Pro Ultra Memory Cards lot 170MB/s USA\", \"epid\": \"146020353000\", \"link\": \"https://www.ebay.com/itm/146020353000\", \"image\": \"https://i.ebayimg.com/images/g/OwMAAOSwqAZm4kTV/s-l500.jpg\", \"condition\": \"Brand New\", \"seller_info\": {\"name\": \"unimall2\", \"review_count\": 1416, \"positive_feedback_percent\": 98.1}, \"is_auction\": false, \"buy_it_now\": true, \"free_returns\": false, \"sponsored\": true, \"prices\": [{\"value\": 13.99, \"raw\": \"$13.99\"}, {\"value\": 24.99, \"raw\": \"$24.99\"}], \"price\": {\"value\": 13.99, \"raw\": \"$13.99\"}}, {\"position\": 2, \"title\": \"SanDisk 256GB Extreme PRO\\u00ae SDHC\\u2122 And SDXC\\u2122 UHS-I Card - SDSDXXD-256G-GN4IN\", \"epid\": \"286081570020\", \"link\": \"https://www.ebay.com/itm/286081570020\", \"image\": \"https://i.ebayimg.com/images/g/KUIAAOSw6a5m9zD5/s-l500.jpg\", \"condition\": \"Brand New\", \"seller_info\": {\"name\": \"sandisktechnologies\", \"review_count\": 25, \"positive_feedback_percent\": 100}, \"is_auction\": false, \"buy_it_now\": true, \"free_returns\": true, \"rating\": 5, \"ratings_total\": 7, \"sponsored\": true, \"prices\": [{\"value\": 34.99, \"raw\": \"$34.99\"}], \"price\": {\"value\": 34.99, \"raw\": \"$34.99\"}}, {\"position\": 3, \"title\": \"Sandisk Micro SD Card 128GB 256GB Extreme Pro Ultra Memory Cards lot 170MB/s\", \"epid\": \"204330992757\", \"link\": \"https://www.ebay.com/itm/204330992757\", \"image\": \"https://i.ebayimg.com/images/g/el8AAOSwyBhkFCrG/s-l140.jpg\", \"condition\": \"Brand New\", \"seller_info\": {\"name\": \"tuesde\", \"review_count\": 5068, \"positive_feedback_percent\": 99.2}, \"is_auction\": false, \"buy_it_now\": true, \"free_returns\": true, \"sponsored\": true, \"prices\": [{\"value\": 13.99, \"raw\": \"$13.99\"}, {\"value\": 24.99, \"raw\": \"$24.99\"}], \"price\": {\"value\": 13.99, \"raw\": \"$13.99\"}}, {\"position\": 4, \"title\": \"SanDisk 256GB Extreme PRO SDXC UHS-II Memory Card - SDSDXEP-256G-GN4IN\", \"epid\": \"286081569985\", \"link\": \"https://www.ebay.com/itm/286081569985\", \"image\": \"https://i.ebayimg.com/images/g/Dj4AAOSwZGdm9zBw/s-l140.jpg\", \"condition\": \"Brand New\", \"seller_info\": {\"name\": \"sandisktechnologies\", \"review_count\": 25, \"positive_feedback_percent\": 100}, \"is_auction\": false, \"buy_it_now\": true, \"free_returns\": true, \"sponsored\": true, \"prices\": [{\"value\": 69.99, \"raw\": \"$69.99\"}], \"price\": {\"value\": 69.99, \"raw\": \"$69.99\"}}, {\"position\": 5, \"title\": \"Pack of 10 Genuine SanDisk 16GB Class 4 SD SDHC Flash Memory Card SDSDB-016G lot\", \"epid\": \"405071797164\", \"link\": \"https://www.ebay.com/itm/405071797164\", \"image\": \"https://i.ebayimg.com/images/g/lRAAAOSwY4FgrXH8/s-l140.jpg\", \"condition\": \"Open Box\", \"seller_info\": {\"name\": \"memory561\", \"review_count\": 107085, \"positive_feedback_percent\": 99.5}, \"is_auction\": false, \"buy_it_now\": true, \"free_returns\": true, \"rating\": 5, \"ratings_total\": 583, \"sponsored\": true, \"prices\": [{\"value\": 39.97, \"raw\": \"$39.97\"}], \"price\": {\"value\": 39.97, \"raw\": \"$39.97\"}}, {\"position\": 6, \"title\": \"Lot of 2 SanDisk 32GB = 64GB SD SDHC Class 4 Camera Flash Memory Card SDSDB-032G\", \"epid\": \"331634660766\", \"link\": \"https://www.ebay.com/itm/331634660766\", \"image\": \"https://i.ebayimg.com/images/g/IRMAAOSw3ydV183w/s-l140.jpg\", \"condition\": \"Brand New\", \"seller_info\": {\"name\": \"allizwell2k10\", \"review_count\": 391129, \"positive_feedback_percent\": 99.6}, \"is_auction\": false, \"buy_it_now\": true, \"free_returns\": true, \"sponsored\": true, \"prices\": [{\"value\": 12.99, \"raw\": \"$12.99\"}], \"price\": {\"value\": 12.99, \"raw\": \"$12.99\"}}, {\"position\": 7, \"title\": \"SanDisk 32GB Ultra SDHC UHS-I Memory Card Class 10 120 MB/s Full HD Camera\", \"epid\": \"193904175450\", \"link\": \"https://www.ebay.com/itm/193904175450\", \"image\": \"https://i.ebayimg.com/images/g/5dsAAOSwCeRgyfwN/s-l140.jpg\", \"condition\": \"Brand New\", \"seller_info\": {\"name\": \"gmdbrands\", \"review_count\": 15426, \"positive_feedback_percent\": 99.2}, \"is_auction\": false, \"buy_it_now\": true, \"free_returns\": false, \"rating\": 5, \"ratings_total\": 86, \"sponsored\": true, \"prices\": [{\"value\": 7.8, \"raw\": \"$7.80\"}], \"price\": {\"value\": 7.8, \"raw\": \"$7.80\"}}, {\"position\": 8, \"title\": \"SanDisk 128GB Ultra microSDXC UHS-I Memory Card 100Mb/s -  SDSQUAR-128G-GN6MA\", \"epid\": \"156413276779\", \"link\": \"https://www.ebay.com/itm/156413276779\", \"image\": \"https://i.ebayimg.com/images/g/dAYAAOSw8Idm37LO/s-l140.jpg\", \"condition\": \"Open Box\", \"seller_info\": {\"name\": \"bytestrading\", \"review_count\": 1334, \"positive_feedback_percent\": 97.4}, \"is_auction\": false, \"buy_it_now\": true, \"free_returns\": false, \"rating\": 4.5, \"ratings_total\": 562, \"sponsored\": true, \"prices\": [{\"value\": 9.99, \"raw\": \"$9.99\"}], \"price\": {\"value\": 9.99, \"raw\": \"$9.99\"}}, {\"position\": 9, \"title\": \"Sandisk Micro SD Card 128GB 256GB Extreme Pro Ultra Memory Cards lot 170MB/s\", \"epid\": \"204330992757\", \"link\": \"https://www.ebay.com/itm/204330992757\", \"image\": \"https://i.ebayimg.com/images/g/el8AAOSwyBhkFCrG/s-l140.jpg\", \"seller_info\": {\"name\": \"tuesde\", \"review_count\": 5068, \"positive_feedback_percent\": 99.2}, \"is_auction\": false, \"buy_it_now\": false, \"free_returns\": false, \"sponsored\": false, \"prices\": [{\"value\": 24.99, \"raw\": \"$24.99\"}], \"price\": {\"value\": 24.99, \"raw\": \"$24.99\"}}, {\"position\": 10, \"title\": \"2 X SanDisk Ultra Plus 64GB SDXC V10 150MB/s Class 10 Memory Cards NEW\", \"epid\": \"276669050773\", \"link\": \"https://www.ebay.com/itm/276669050773\", \"image\": \"https://i.ebayimg.com/images/g/HIUAAOSwydpm~uq6/s-l140.jpg\", \"seller_info\": {\"name\": \"optimal_deals\", \"review_count\": 45329, \"positive_feedback_percent\": 99.9}, \"is_auction\": false, \"buy_it_now\": false, \"free_returns\": false, \"sponsored\": false, \"prices\": [{\"value\": 23.99, \"raw\": \"$23.99\"}], \"price\": {\"value\": 23.99, \"raw\": \"$23.99\"}}, {\"position\": 11, \"title\": \"Sandisk Micro SD Card Memory 32GB 64GB 128GB 256GB 512GB 1TB Lot Extreme Ultra\", \"epid\": \"203914554350\", \"link\": \"https://www.ebay.com/itm/203914554350\", \"image\": \"https://i.ebayimg.com/images/g/A7wAAOSwemNjTz~l/s-l140.jpg\", \"seller_info\": {\"name\": \"terashack\", \"review_count\": 63338, \"positive_feedback_percent\": 99.9}, \"is_auction\": false, \"buy_it_now\": false, \"free_returns\": false, \"sponsored\": false, \"prices\": [{\"value\": 209.5, \"raw\": \"$209.50\"}], \"price\": {\"value\": 209.5, \"raw\": \"$209.50\"}}, {\"position\": 12, \"title\": \"Lot of 5 SanDisk Ultra 32 GB SDHC SDXC Class 10 48MB/s Memory Card SDSDUNB-032G\", \"epid\": \"283772390368\", \"link\": \"https://www.ebay.com/itm/283772390368\", \"image\": \"https://i.ebayimg.com/images/g/c~4AAOSw8KxeObN9/s-l140.jpg\", \"seller_info\": {\"name\": \"allizwell2k10\", \"review_count\": 391129, \"positive_feedback_percent\": 99.6}, \"is_auction\": false, \"buy_it_now\": false, \"free_returns\": false, \"sponsored\": false, \"prices\": [{\"value\": 29.99, \"raw\": \"$29.99\"}], \"price\": {\"value\": 29.99, \"raw\": \"$29.99\"}}, {\"position\": 13, \"title\": \"Lot of 100 Mixed 4GB MICRO SD SDHC Memory Cards Sandisk Samsung Kingston Toshiba\", \"epid\": \"256626933847\", \"link\": \"https://www.ebay.com/itm/256626933847\", \"image\": \"https://i.ebayimg.com/images/g/xN8AAOSwDm1c-rFP/s-l140.jpg\", \"seller_info\": {\"name\": \"wewex777\", \"review_count\": 6150, \"positive_feedback_percent\": 98.3}, \"is_auction\": false, \"buy_it_now\": false, \"free_returns\": false, \"sponsored\": false, \"prices\": [{\"value\": 139, \"raw\": \"$139.00\"}], \"price\": {\"value\": 139, \"raw\": \"$139.00\"}}, {\"position\": 14, \"title\": \"SanDisk ExtremePro 64GB CF memory card SDCFXPS-064G G Extreme Pro 64 GB 160MB/s\", \"epid\": \"404856030762\", \"link\": \"https://www.ebay.com/itm/404856030762\", \"image\": \"https://i.ebayimg.com/images/g/Om4AAOSwHnFVpn1v/s-l140.jpg\", \"seller_info\": {\"name\": \"memory561\", \"review_count\": 107085, \"positive_feedback_percent\": 99.5}, \"is_auction\": false, \"buy_it_now\": false, \"free_returns\": false, \"sponsored\": false, \"prices\": [{\"value\": 34.99, \"raw\": \"$34.99\"}], \"price\": {\"value\": 34.99, \"raw\": \"$34.99\"}}, {\"position\": 15, \"title\": \"SanDisk 32GB Ultra SDHC UHS-I Memory Card Class 10 120 MB/s Full HD Camera\", \"epid\": \"193904175450\", \"link\": \"https://www.ebay.com/itm/193904175450\", \"image\": \"https://i.ebayimg.com/images/g/5dsAAOSwCeRgyfwN/s-l140.jpg\", \"seller_info\": {\"name\": \"gmdbrands\", \"review_count\": 15426, \"positive_feedback_percent\": 99.2}, \"is_auction\": false, \"buy_it_now\": false, \"free_returns\": false, \"sponsored\": false, \"prices\": [{\"value\": 7.8, \"raw\": \"$7.80\"}], \"price\": {\"value\": 7.8, \"raw\": \"$7.80\"}}, {\"position\": 16, \"title\": \"5 x SanDisk Ultra 16GB SDHC SDXC SD Class 10 Flash Memory Card Camera + Cases\", \"epid\": \"284987092906\", \"link\": \"https://www.ebay.com/itm/284987092906\", \"image\": \"https://i.ebayimg.com/images/g/CJoAAOSwbZBbwDGf/s-l140.jpg\", \"seller_info\": {\"name\": \"allizwell2k10\", \"review_count\": 391129, \"positive_feedback_percent\": 99.6}, \"is_auction\": false, \"buy_it_now\": false, \"free_returns\": false, \"sponsored\": false, \"prices\": [{\"value\": 28.99, \"raw\": \"$28.99\"}], \"price\": {\"value\": 28.99, \"raw\": \"$28.99\"}}, {\"position\": 17, \"title\": \"SanDisk Micro SD Card 16GB 32GB 64GB 128GB TF Class 10 for Smartphones Tablets\", \"epid\": \"324736594273\", \"link\": \"https://www.ebay.com/itm/324736594273\", \"image\": \"https://i.ebayimg.com/images/g/mFYAAOSwb2xc-H1q/s-l140.jpg\", \"condition\": \"Brand New\", \"seller_info\": {\"name\": \"motoheatusa\", \"review_count\": 55804, \"positive_feedback_percent\": 99.1}, \"is_auction\": false, \"buy_it_now\": true, \"free_returns\": false, \"rating\": 5, \"ratings_total\": 178, \"sponsored\": true, \"prices\": [{\"value\": 5.2, \"raw\": \"$5.20\"}, {\"value\": 15.9, \"raw\": \"$15.90\"}], \"price\": {\"value\": 5.2, \"raw\": \"$5.20\"}}, {\"position\": 18, \"title\": \"SanDisk SD 64GB Ultra SDHC UHS-I / Class 10 Memory Card, Speed Up to 120MB/s\", \"epid\": \"156294481766\", \"link\": \"https://www.ebay.com/itm/156294481766\", \"image\": \"https://i.ebayimg.com/images/g/QngAAOSwPtlmjKia/s-l140.jpg\", \"condition\": \"Open Box\", \"seller_info\": {\"name\": \"bytestrading\", \"review_count\": 1334, \"positive_feedback_percent\": 97.4}, \"is_auction\": false, \"buy_it_now\": true, \"free_returns\": false, \"rating\": 5, \"ratings_total\": 6, \"sponsored\": true, \"prices\": [{\"value\": 7.47, \"raw\": \"$7.47\"}], \"price\": {\"value\": 7.47, \"raw\": \"$7.47\"}}, {\"position\": 19, \"title\": \"Sandisk SD Card 16GB 32GB 64GB 128GB Ultra Memory Card Camera Trail Cam Computer\", \"epid\": \"274688396928\", \"link\": \"https://www.ebay.com/itm/274688396928\", \"image\": \"https://i.ebayimg.com/images/g/LegAAOSwNkdisJb3/s-l140.jpg\", \"condition\": \"Brand New\", \"seller_info\": {\"name\": \"memorydiscounters\", \"review_count\": 70823, \"positive_feedback_percent\": 99.9}, \"is_auction\": false, \"buy_it_now\": true, \"free_returns\": true, \"rating\": 5, \"ratings_total\": 86, \"sponsored\": true, \"prices\": [{\"value\": 7.98, \"raw\": \"$7.98\"}, {\"value\": 56.98, \"raw\": \"$56.98\"}], \"price\": {\"value\": 7.98, \"raw\": \"$7.98\"}}, {\"position\": 20, \"title\": \"32GB Sandisk Ultra SD Memory cards 10 pack for Camera / Trail Camera / Computers\", \"epid\": \"274918776662\", \"link\": \"https://www.ebay.com/itm/274918776662\", \"image\": \"https://i.ebayimg.com/images/g/USsAAOSw-DZixfeU/s-l140.jpg\", \"condition\": \"Brand New\", \"seller_info\": {\"name\": \"memorydiscounters\", \"review_count\": 70823, \"positive_feedback_percent\": 99.9}, \"is_auction\": false, \"buy_it_now\": true, \"free_returns\": true, \"rating\": 5, \"ratings_total\": 4, \"sponsored\": true, \"prices\": [{\"value\": 54.36, \"raw\": \"$54.36\"}], \"price\": {\"value\": 54.36, \"raw\": \"$54.36\"}}, {\"position\": 21, \"title\": \"SanDisk Extreme PRO 128GB UHS-I U3 SDXC 200MB/s 4K Memory Card\", \"epid\": \"156442619957\", \"link\": \"https://www.ebay.com/itm/156442619957\", \"image\": \"https://i.ebayimg.com/images/g/gJ0AAOSwqTVnAHSF/s-l140.jpg\", \"condition\": \"Brand New\", \"seller_info\": {\"name\": \"dorandbelle\", \"review_count\": 310, \"positive_feedback_percent\": 92.5}, \"is_auction\": false, \"buy_it_now\": false, \"free_returns\": true, \"rating\": 5, \"ratings_total\": 15, \"sponsored\": true, \"best_offer\": true, \"prices\": [{\"value\": 19.95, \"raw\": \"$19.95\"}], \"price\": {\"value\": 19.95, \"raw\": \"$19.95\"}}, {\"position\": 22, \"title\": \"2 X SanDisk Ultra Plus 64GB SDXC V10 150MB/s Class 10 Memory Cards NEW\", \"epid\": \"276669050773\", \"link\": \"https://www.ebay.com/itm/276669050773\", \"image\": \"https://i.ebayimg.com/images/g/HIUAAOSwydpm~uq6/s-l140.jpg\", \"condition\": \"Brand New\", \"seller_info\": {\"name\": \"optimal_deals\", \"review_count\": 45329, \"positive_feedback_percent\": 99.9}, \"is_auction\": false, \"buy_it_now\": false, \"free_returns\": true, \"sponsored\": true, \"best_offer\": true, \"prices\": [{\"value\": 23.99, \"raw\": \"$23.99\"}], \"price\": {\"value\": 23.99, \"raw\": \"$23.99\"}}, {\"position\": 23, \"title\": \"SandDisk Extreme Pro SD SDXC UHS-I U3 V30 200MB/s 4K HD Video Camera memory Card\", \"epid\": \"405181132580\", \"link\": \"https://www.ebay.com/itm/405181132580\", \"image\": \"https://i.ebayimg.com/images/g/enMAAOSw4UpmxW78/s-l140.jpg\", \"condition\": \"Brand New\", \"seller_info\": {\"name\": \"ecommasterz\", \"review_count\": 18, \"positive_feedback_percent\": 100}, \"is_auction\": false, \"buy_it_now\": true, \"free_returns\": true, \"sponsored\": true, \"prices\": [{\"value\": 59.99, \"raw\": \"$59.99\"}], \"price\": {\"value\": 59.99, \"raw\": \"$59.99\"}}, {\"position\": 24, \"title\": \"SanDisk Micro SD Card Ultra 16GB 32GB 64GB 128GB 256GB Class 10 TF Wholesale Lot\", \"epid\": \"156415678580\", \"link\": \"https://www.ebay.com/itm/156415678580\", \"image\": \"https://i.ebayimg.com/images/g/zzsAAOSwY3tm62Fp/s-l140.jpg\", \"condition\": \"Brand New\", \"seller_info\": {\"name\": \"heartyowl\", \"review_count\": 630, \"positive_feedback_percent\": 99.6}, \"is_auction\": false, \"buy_it_now\": true, \"free_returns\": false, \"sponsored\": true, \"prices\": [{\"value\": 5.5, \"raw\": \"$5.50\"}, {\"value\": 178.5, \"raw\": \"$178.50\"}], \"price\": {\"value\": 5.5, \"raw\": \"$5.50\"}}, {\"position\": 25, \"title\": \"Lot of 5 SanDisk Ultra 32 GB SDHC SDXC Class 10 48MB/s Memory Card SDSDUNB-032G\", \"epid\": \"283772390368\", \"link\": \"https://www.ebay.com/itm/283772390368\", \"image\": \"https://i.ebayimg.com/images/g/c~4AAOSw8KxeObN9/s-l140.jpg\", \"condition\": \"Brand New\", \"seller_info\": {\"name\": \"allizwell2k10\", \"review_count\": 391129, \"positive_feedback_percent\": 99.6}, \"is_auction\": false, \"buy_it_now\": true, \"free_returns\": true, \"sponsored\": true, \"prices\": [{\"value\": 29.99, \"raw\": \"$29.99\"}], \"price\": {\"value\": 29.99, \"raw\": \"$29.99\"}}, {\"position\": 26, \"title\": \"Sandisk Micro SD Card Memory 32GB 64GB 128GB 256GB 512GB 1TB Lot Extreme Ultra\", \"epid\": \"203914554350\", \"link\": \"https://www.ebay.com/itm/203914554350\", \"image\": \"https://i.ebayimg.com/images/g/A7wAAOSwemNjTz~l/s-l140.jpg\", \"condition\": \"Brand New\", \"seller_info\": {\"name\": \"terashack\", \"review_count\": 63338, \"positive_feedback_percent\": 99.9}, \"is_auction\": false, \"buy_it_now\": true, \"free_returns\": true, \"sponsored\": true, \"prices\": [{\"value\": 9.95, \"raw\": \"$9.95\"}, {\"value\": 484.5, \"raw\": \"$484.50\"}], \"price\": {\"value\": 9.95, \"raw\": \"$9.95\"}}, {\"position\": 27, \"title\": \"5 x SanDisk Ultra 16GB SDHC SDXC SD Class 10 Flash Memory Card Camera + Cases\", \"epid\": \"284987092906\", \"link\": \"https://www.ebay.com/itm/284987092906\", \"image\": \"https://i.ebayimg.com/images/g/CJoAAOSwbZBbwDGf/s-l140.jpg\", \"condition\": \"Brand New\", \"seller_info\": {\"name\": \"allizwell2k10\", \"review_count\": 391129, \"positive_feedback_percent\": 99.6}, \"is_auction\": false, \"buy_it_now\": true, \"free_returns\": true, \"rating\": 5, \"ratings_total\": 13, \"sponsored\": true, \"prices\": [{\"value\": 28.99, \"raw\": \"$28.99\"}], \"price\": {\"value\": 28.99, \"raw\": \"$28.99\"}}, {\"position\": 28, \"title\": \"SanDisk 128GB micro SD SDXC Card 100MB/s Ultra 128G Class 10 UHS-1 A1\", \"epid\": \"253152315853\", \"link\": \"https://www.ebay.com/itm/253152315853\", \"image\": \"https://i.ebayimg.com/images/g/Ry8AAOSwarNZucp7/s-l140.jpg\", \"condition\": \"Brand New\", \"seller_info\": {\"name\": \"allizwell2k10\", \"review_count\": 391129, \"positive_feedback_percent\": 99.6}, \"is_auction\": false, \"buy_it_now\": true, \"free_returns\": true, \"rating\": 4.5, \"ratings_total\": 562, \"sponsored\": true, \"prices\": [{\"value\": 13.99, \"raw\": \"$13.99\"}], \"price\": {\"value\": 13.99, \"raw\": \"$13.99\"}}, {\"position\": 29, \"title\": \"Sandisk SD Cards 16GB 32GB 64GB 128GB 256GB Extreme Pro Ultra Memory Cards lot\", \"epid\": \"324078167020\", \"link\": \"https://www.ebay.com/itm/324078167020\", \"image\": \"https://i.ebayimg.com/images/g/PasAAOSwHVJi4Akg/s-l140.jpg\", \"condition\": \"Brand New\", \"seller_info\": {\"name\": \"memorydiscounters\", \"review_count\": 70823, \"positive_feedback_percent\": 99.9}, \"is_auction\": false, \"buy_it_now\": true, \"free_returns\": true, \"sponsored\": true, \"prices\": [{\"value\": 7.98, \"raw\": \"$7.98\"}, {\"value\": 225.72, \"raw\": \"$225.72\"}], \"price\": {\"value\": 7.98, \"raw\": \"$7.98\"}}, {\"position\": 30, \"title\": \"SanDisk High Endurance & Max Endurance 64GB 128GB 256GB MicroSD Memory Cards\", \"epid\": \"275192526191\", \"link\": \"https://www.ebay.com/itm/275192526191\", \"image\": \"https://i.ebayimg.com/images/g/oFUAAOSwf8hieRzM/s-l140.jpg\", \"condition\": \"Brand New\", \"seller_info\": {\"name\": \"memorydiscounters\", \"review_count\": 70823, \"positive_feedback_percent\": 99.9}, \"is_auction\": false, \"buy_it_now\": true, \"free_returns\": true, \"sponsored\": true, \"prices\": [{\"value\": 13.06, \"raw\": \"$13.06\"}, {\"value\": 45.67, \"raw\": \"$45.67\"}], \"price\": {\"value\": 13.06, \"raw\": \"$13.06\"}}, {\"position\": 31, \"title\": \"SanDisk Ultra 128 GB SD SDXC Memory Card SDSDUNR-128G-GN3IN 100mbps\", \"epid\": \"284993211913\", \"link\": \"https://www.ebay.com/itm/284993211913\", \"image\": \"https://i.ebayimg.com/images/g/UYQAAOSw~wdjOHpe/s-l140.jpg\", \"condition\": \"Brand New\", \"seller_info\": {\"name\": \"allizwell2k10\", \"review_count\": 391129, \"positive_feedback_percent\": 99.6}, \"is_auction\": false, \"buy_it_now\": true, \"free_returns\": true, \"rating\": 5, \"ratings_total\": 26, \"sponsored\": true, \"prices\": [{\"value\": 13.5, \"raw\": \"$13.50\"}], \"price\": {\"value\": 13.5, \"raw\": \"$13.50\"}}, {\"position\": 32, \"title\": \"SanDisk Ultra 32 GB SD SDXC Memory Card SDSDUNR-032G-GN3IN 100mbps\", \"epid\": \"334585419686\", \"link\": \"https://www.ebay.com/itm/334585419686\", \"image\": \"https://i.ebayimg.com/images/g/~9UAAOSw0l1jOIP5/s-l140.jpg\", \"condition\": \"Brand New\", \"seller_info\": {\"name\": \"allizwell2k10\", \"review_count\": 391129, \"positive_feedback_percent\": 99.6}, \"is_auction\": false, \"buy_it_now\": true, \"free_returns\": true, \"rating\": 5, \"ratings_total\": 79, \"sponsored\": true, \"prices\": [{\"value\": 8.45, \"raw\": \"$8.45\"}], \"price\": {\"value\": 8.45, \"raw\": \"$8.45\"}}, {\"position\": 33, \"title\": \"Sandisk Micro SD Card 128GB 256GB Extreme Pro Ultra Memory Cards lot 170MB/s\", \"epid\": \"235778650574\", \"link\": \"https://www.ebay.com/itm/235778650574\", \"image\": \"https://i.ebayimg.com/images/g/blcAAOSw~htnBoI1/s-l140.jpg\", \"condition\": \"Brand New\", \"seller_info\": {\"name\": \"rujuli45\", \"review_count\": 19, \"positive_feedback_percent\": 100}, \"is_auction\": false, \"buy_it_now\": true, \"free_returns\": true, \"sponsored\": true, \"prices\": [{\"value\": 8.24, \"raw\": \"$8.24\"}, {\"value\": 19.49, \"raw\": \"$19.49\"}], \"price\": {\"value\": 8.24, \"raw\": \"$8.24\"}}, {\"position\": 34, \"title\": \"Lot of 2 SanDisk 16GB = 32GB SDHC Class 4 SD Flash Memory Card Camera SDSDB-016G\", \"epid\": \"281779505238\", \"link\": \"https://www.ebay.com/itm/281779505238\", \"image\": \"https://i.ebayimg.com/images/g/RNoAAOSwDNdV18zs/s-l140.jpg\", \"condition\": \"Brand New\", \"seller_info\": {\"name\": \"allizwell2k10\", \"review_count\": 391129, \"positive_feedback_percent\": 99.6}, \"is_auction\": false, \"buy_it_now\": false, \"free_returns\": true, \"rating\": 5, \"ratings_total\": 583, \"sponsored\": true, \"best_offer\": true, \"prices\": [{\"value\": 12.95, \"raw\": \"$12.95\"}], \"price\": {\"value\": 12.95, \"raw\": \"$12.95\"}}, {\"position\": 35, \"title\": \"SanDisk 16GB 32GB 64GB SDHC SDXC Class4 SD Flash Memory Card Camera SDSDB By Lot\", \"epid\": \"196171638575\", \"link\": \"https://www.ebay.com/itm/196171638575\", \"image\": \"https://i.ebayimg.com/images/g/4y8AAOSwTr1llxgC/s-l140.jpg\", \"condition\": \"Brand New\", \"seller_info\": {\"name\": \"firstchoiceonline\", \"review_count\": 55629, \"positive_feedback_percent\": 99.2}, \"is_auction\": false, \"buy_it_now\": true, \"free_returns\": true, \"sponsored\": true, \"prices\": [{\"value\": 2.38, \"raw\": \"$2.38\"}, {\"value\": 85.9, \"raw\": \"$85.90\"}], \"price\": {\"value\": 2.38, \"raw\": \"$2.38\"}}, {\"position\": 36, \"title\": \"3 PACK - SanDisk Ultra 32 GB SD SDXC Memory Card SDSDUNR-032G-GN3IN 100mbps\", \"epid\": \"335620366761\", \"link\": \"https://www.ebay.com/itm/335620366761\", \"image\": \"https://i.ebayimg.com/images/g/H3EAAOSwwZ1lOZFX/s-l140.jpg\", \"condition\": \"Brand New\", \"seller_info\": {\"name\": \"cellular_specials\", \"review_count\": 4321, \"positive_feedback_percent\": 98.3}, \"is_auction\": false, \"buy_it_now\": true, \"free_returns\": false, \"rating\": 5, \"ratings_total\": 79, \"sponsored\": true, \"prices\": [{\"value\": 13.99, \"raw\": \"$13.99\"}], \"price\": {\"value\": 13.99, \"raw\": \"$13.99\"}}, {\"position\": 37, \"title\": \"SanDisk 64GB Extreme PRO SDXC UHS-Il Memory Card - SDSDXDK-064G-GN4IN\", \"epid\": \"286081569997\", \"link\": \"https://www.ebay.com/itm/286081569997\", \"image\": \"https://i.ebayimg.com/images/g/LKgAAOSwn0pm9zA2/s-l140.jpg\", \"condition\": \"Brand New\", \"seller_info\": {\"name\": \"sandisktechnologies\", \"review_count\": 25, \"positive_feedback_percent\": 100}, \"is_auction\": false, \"buy_it_now\": true, \"free_returns\": true, \"rating\": 5, \"ratings_total\": 2, \"sponsored\": true, \"prices\": [{\"value\": 64.99, \"raw\": \"$64.99\"}], \"price\": {\"value\": 64.99, \"raw\": \"$64.99\"}}, {\"position\": 38, \"title\": \"SanDisk 512GB Extreme microSDXC UHS-I Memory Card with Adapter\", \"epid\": \"126682643493\", \"link\": \"https://www.ebay.com/itm/126682643493\", \"image\": \"https://i.ebayimg.com/images/g/ocEAAOSwrxxlYXyW/s-l140.jpg\", \"condition\": \"Brand New\", \"seller_info\": {\"name\": \"fransan-3566\", \"review_count\": 617, \"positive_feedback_percent\": 99}, \"is_auction\": false, \"buy_it_now\": true, \"free_returns\": false, \"rating\": 5, \"ratings_total\": 4, \"sponsored\": true, \"prices\": [{\"value\": 39, \"raw\": \"$39.00\"}], \"price\": {\"value\": 39, \"raw\": \"$39.00\"}}, {\"position\": 39, \"title\": \"SanDIsk SDHC/SDXC Memory Card 64GB - SDSDB-064G-B35\", \"epid\": \"286081569964\", \"link\": \"https://www.ebay.com/itm/286081569964\", \"image\": \"https://i.ebayimg.com/images/g/NLkAAOSwtl5m9zAs/s-l140.jpg\", \"condition\": \"Brand New\", \"seller_info\": {\"name\": \"sandisktechnologies\", \"review_count\": 25, \"positive_feedback_percent\": 100}, \"is_auction\": false, \"buy_it_now\": true, \"free_returns\": true, \"shipping_cost\": 6, \"rating\": 4.5, \"ratings_total\": 53, \"sponsored\": true, \"prices\": [{\"value\": 9.49, \"raw\": \"$9.49\"}], \"price\": {\"value\": 9.49, \"raw\": \"$9.49\"}}, {\"position\": 40, \"title\": \"Sandisk SD Extreme PRO 32GB 64GB 128GB 256GB 512GB 1TB Memory Card Nikon Canon\", \"epid\": \"204440376680\", \"link\": \"https://www.ebay.com/itm/204440376680\", \"image\": \"https://i.ebayimg.com/images/g/fvoAAOSwKytlTAQz/s-l140.jpg\", \"condition\": \"Brand New\", \"seller_info\": {\"name\": \"terashack\", \"review_count\": 63338, \"positive_feedback_percent\": 99.9}, \"is_auction\": false, \"buy_it_now\": true, \"free_returns\": true, \"sponsored\": true, \"prices\": [{\"value\": 19.99, \"raw\": \"$19.99\"}, {\"value\": 527.99, \"raw\": \"$527.99\"}], \"price\": {\"value\": 19.99, \"raw\": \"$19.99\"}}, {\"position\": 41, \"title\": \"32GB Sandisk Ultra SD Memory cards for Camera/ Trail Camera / Computers (5 Pack)\", \"epid\": \"275442010414\", \"link\": \"https://www.ebay.com/itm/275442010414\", \"image\": \"https://i.ebayimg.com/images/g/CusAAOSwc3hjD7LN/s-l140.jpg\", \"condition\": \"Brand New\", \"seller_info\": {\"name\": \"memorydiscounters\", \"review_count\": 70823, \"positive_feedback_percent\": 99.9}, \"is_auction\": false, \"buy_it_now\": true, \"free_returns\": true, \"rating\": 5, \"ratings_total\": 79, \"sponsored\": true, \"prices\": [{\"value\": 30.24, \"raw\": \"$30.24\"}], \"price\": {\"value\": 30.24, \"raw\": \"$30.24\"}}, {\"position\": 42, \"title\": \"SanDisk Ultra 64 GB SD SDXC Memory Card SDSDUNR-064G-GN3IN 100MB/s\", \"epid\": \"255763788690\", \"link\": \"https://www.ebay.com/itm/255763788690\", \"image\": \"https://i.ebayimg.com/images/g/bewAAOSw9SNjOISc/s-l140.jpg\", \"condition\": \"Brand New\", \"seller_info\": {\"name\": \"allizwell2k10\", \"review_count\": 391129, \"positive_feedback_percent\": 99.6}, \"is_auction\": false, \"buy_it_now\": true, \"free_returns\": true, \"rating\": 5, \"ratings_total\": 31, \"sponsored\": true, \"prices\": [{\"value\": 9.99, \"raw\": \"$9.99\"}], \"price\": {\"value\": 9.99, \"raw\": \"$9.99\"}}, {\"position\": 43, \"title\": \"SanDisk Ultra 64GB 80MB/s SDXC SDHC Class 10 533x SD Camera Flash Memory Card\", \"epid\": \"332426273325\", \"link\": \"https://www.ebay.com/itm/332426273325\", \"image\": \"https://i.ebayimg.com/images/g/4EsAAOSwEEBZ8YzQ/s-l140.jpg\", \"condition\": \"Brand New\", \"seller_info\": {\"name\": \"allizwell2k10\", \"review_count\": 391129, \"positive_feedback_percent\": 99.6}, \"is_auction\": false, \"buy_it_now\": true, \"free_returns\": true, \"rating\": 5, \"ratings_total\": 188, \"sponsored\": true, \"prices\": [{\"value\": 10.5, \"raw\": \"$10.50\"}], \"price\": {\"value\": 10.5, \"raw\": \"$10.50\"}}, {\"position\": 44, \"title\": \"SanDisk Micro SD Card Ultra Memory 32GB Class 10 TF SDHC UHS-I\", \"epid\": \"156319720924\", \"link\": \"https://www.ebay.com/itm/156319720924\", \"image\": \"https://i.ebayimg.com/images/g/0JcAAOSwywxmoS5k/s-l140.jpg\", \"condition\": \"Brand New\", \"seller_info\": {\"name\": \"heartyowl\", \"review_count\": 630, \"positive_feedback_percent\": 99.6}, \"is_auction\": false, \"buy_it_now\": true, \"free_returns\": false, \"sponsored\": true, \"prices\": [{\"value\": 6.5, \"raw\": \"$6.50\"}], \"price\": {\"value\": 6.5, \"raw\": \"$6.50\"}}, {\"position\": 45, \"title\": \"Sandisk Micro SD Card 128GB 256GB Extreme Pro Ultra Memory Cards lot 170MB/s\", \"epid\": \"356130776964\", \"link\": \"https://www.ebay.com/itm/356130776964\", \"image\": \"https://i.ebayimg.com/images/g/phQAAOSwk5ZnBoI0/s-l140.jpg\", \"condition\": \"Brand New\", \"seller_info\": {\"name\": \"digharabet_0\", \"review_count\": 20, \"positive_feedback_percent\": 100}, \"is_auction\": false, \"buy_it_now\": true, \"free_returns\": true, \"sponsored\": true, \"prices\": [{\"value\": 8.79, \"raw\": \"$8.79\"}, {\"value\": 20.79, \"raw\": \"$20.79\"}], \"price\": {\"value\": 8.79, \"raw\": \"$8.79\"}}, {\"position\": 46, \"title\": \"Sandisk Micro SD Card Ultra TF Memory 32GB 64GB 128GB 256GB 512GB 1TB 1.5TB\", \"epid\": \"203916910977\", \"link\": \"https://www.ebay.com/itm/203916910977\", \"image\": \"https://i.ebayimg.com/images/g/THMAAOSwEYliXJ-F/s-l140.jpg\", \"condition\": \"Brand New\", \"seller_info\": {\"name\": \"terashack\", \"review_count\": 63338, \"positive_feedback_percent\": 99.9}, \"is_auction\": false, \"buy_it_now\": true, \"free_returns\": true, \"sponsored\": true, \"prices\": [{\"value\": 9.95, \"raw\": \"$9.95\"}, {\"value\": 195.99, \"raw\": \"$195.99\"}], \"price\": {\"value\": 9.95, \"raw\": \"$9.95\"}}, {\"position\": 47, \"title\": \"SanDisk  Extreme PRO 256GB SD SDXC Card 200MB/s Class 10 UHS-1 U3 4K Memory\", \"epid\": \"156442637807\", \"link\": \"https://www.ebay.com/itm/156442637807\", \"image\": \"https://i.ebayimg.com/images/g/B3sAAOSwFXlnAKfD/s-l140.jpg\", \"condition\": \"Brand New\", \"seller_info\": {\"name\": \"dorandbelle\", \"review_count\": 310, \"positive_feedback_percent\": 92.5}, \"is_auction\": false, \"buy_it_now\": false, \"free_returns\": true, \"rating\": 5, \"ratings_total\": 7, \"sponsored\": true, \"best_offer\": true, \"prices\": [{\"value\": 29.95, \"raw\": \"$29.95\"}], \"price\": {\"value\": 29.95, \"raw\": \"$29.95\"}}, {\"position\": 48, \"title\": \"Sandisk SD Extreme PRO 64GB 128GB  SDXC UHS-I Memory Card Nikon Canon\", \"epid\": \"146070421885\", \"link\": \"https://www.ebay.com/itm/146070421885\", \"image\": \"https://i.ebayimg.com/images/g/Sx8AAOSwcy9mG8yw/s-l140.jpg\", \"condition\": \"Brand New\", \"seller_info\": {\"name\": \"autonavstore\", \"review_count\": 585, \"positive_feedback_percent\": 99.2}, \"is_auction\": false, \"buy_it_now\": true, \"free_returns\": true, \"sponsored\": true, \"prices\": [{\"value\": 22.99, \"raw\": \"$22.99\"}, {\"value\": 33.99, \"raw\": \"$33.99\"}], \"price\": {\"value\": 22.99, \"raw\": \"$22.99\"}}, {\"position\": 49, \"title\": \"SanDisk Micro SD 32GB 16GB 8GB SD HC TF Memory Card Class 4 C4 FAST SHIPPING\", \"epid\": \"322726259110\", \"link\": \"https://www.ebay.com/itm/322726259110\", \"image\": \"https://i.ebayimg.com/images/g/ybcAAOSwxnFieR15/s-l140.jpg\", \"condition\": \"Brand New\", \"seller_info\": {\"name\": \"memorydiscounters\", \"review_count\": 70823, \"positive_feedback_percent\": 99.9}, \"is_auction\": false, \"buy_it_now\": true, \"free_returns\": true, \"sponsored\": true, \"prices\": [{\"value\": 6.93, \"raw\": \"$6.93\"}, {\"value\": 44.84, \"raw\": \"$44.84\"}], \"price\": {\"value\": 6.93, \"raw\": \"$6.93\"}}, {\"position\": 50, \"title\": \"SanDisk 32GB 32G Ultra Micro SD HC Class 10 TF Flash SDHC Memory Card mobile\", \"epid\": \"281632809879\", \"link\": \"https://www.ebay.com/itm/281632809879\", \"image\": \"https://i.ebayimg.com/images/g/aTEAAOSwBRFaKapr/s-l140.jpg\", \"condition\": \"Brand New\", \"seller_info\": {\"name\": \"allizwell2k10\", \"review_count\": 391129, \"positive_feedback_percent\": 99.6}, \"is_auction\": false, \"buy_it_now\": true, \"free_returns\": true, \"rating\": 5, \"ratings_total\": 3411, \"sponsored\": true, \"prices\": [{\"value\": 8.99, \"raw\": \"$8.99\"}], \"price\": {\"value\": 8.99, \"raw\": \"$8.99\"}}, {\"position\": 51, \"title\": \"SanDisk Ultra 256 GB Micro SD XC UHS-I Card SDSQUAR-256G-GN6MA 100MB/s A1 256GB\", \"epid\": \"186644428297\", \"link\": \"https://www.ebay.com/itm/186644428297\", \"image\": \"https://i.ebayimg.com/images/g/ytIAAOSw-wpmxT~y/s-l140.jpg\", \"condition\": \"Brand New\", \"seller_info\": {\"name\": \"mar7352\", \"review_count\": 802, \"positive_feedback_percent\": 96.7}, \"is_auction\": false, \"buy_it_now\": false, \"free_returns\": true, \"rating\": 4.5, \"ratings_total\": 92, \"sponsored\": true, \"best_offer\": true, \"prices\": [{\"value\": 16.99, \"raw\": \"$16.99\"}], \"price\": {\"value\": 16.99, \"raw\": \"$16.99\"}}, {\"position\": 52, \"title\": \"SanDisk 32GB 32G Ultra Micro SD HC Class 10 TF Flash SDHC Memory Card mobile\", \"epid\": \"324608340026\", \"link\": \"https://www.ebay.com/itm/324608340026\", \"image\": \"https://i.ebayimg.com/images/g/2HoAAOSwz39glA3m/s-l140.jpg\", \"condition\": \"Brand New\", \"seller_info\": {\"name\": \"motoheatusa\", \"review_count\": 55804, \"positive_feedback_percent\": 99.1}, \"is_auction\": false, \"buy_it_now\": true, \"free_returns\": false, \"rating\": 5, \"ratings_total\": 3411, \"sponsored\": true, \"prices\": [{\"value\": 6.99, \"raw\": \"$6.99\"}], \"price\": {\"value\": 6.99, \"raw\": \"$6.99\"}}, {\"position\": 53, \"title\": \"Lot of 25 Mixed 32GB MICRO SD SDHC Memory Cards Sandisk Kingston Toshiba 32 GB\", \"epid\": \"276657202204\", \"link\": \"https://www.ebay.com/itm/276657202204\", \"image\": \"https://i.ebayimg.com/images/g/gp8AAOSwkcBnEUGf/s-l140.jpg\", \"condition\": \"Pre-Owned\", \"seller_info\": {\"name\": \"wirelessalliance\", \"review_count\": 17535, \"positive_feedback_percent\": 99.1}, \"is_auction\": false, \"buy_it_now\": false, \"free_returns\": false, \"sponsored\": true, \"best_offer\": true, \"prices\": [{\"value\": 50, \"raw\": \"$50.00\"}], \"price\": {\"value\": 50, \"raw\": \"$50.00\"}}, {\"position\": 54, \"title\": \"SanDisk 32GB Extreme Class10 V30 UHS-I U3 SD card 100MBs Full SD HC Memory card\", \"epid\": \"195214263197\", \"link\": \"https://www.ebay.com/itm/195214263197\", \"image\": \"https://i.ebayimg.com/images/g/BssAAOSwE5tlvAMJ/s-l140.jpg\", \"condition\": \"Brand New\", \"seller_info\": {\"name\": \"gmdbrands\", \"review_count\": 15426, \"positive_feedback_percent\": 99.2}, \"is_auction\": false, \"buy_it_now\": true, \"free_returns\": false, \"rating\": 5, \"ratings_total\": 24, \"sponsored\": true, \"prices\": [{\"value\": 9.79, \"raw\": \"$9.79\"}], \"price\": {\"value\": 9.79, \"raw\": \"$9.79\"}}, {\"position\": 55, \"title\": \"16GB Sandisk SD Cards for Digital Cameras / Trail Camera / Computers (5 Pack)\", \"epid\": \"325331544162\", \"link\": \"https://www.ebay.com/itm/325331544162\", \"image\": \"https://i.ebayimg.com/images/g/i1oAAOSwfyljEQxi/s-l140.jpg\", \"condition\": \"Brand New\", \"seller_info\": {\"name\": \"memorydiscounters\", \"review_count\": 70823, \"positive_feedback_percent\": 99.9}, \"is_auction\": false, \"buy_it_now\": true, \"free_returns\": true, \"rating\": 5, \"ratings_total\": 583, \"sponsored\": true, \"prices\": [{\"value\": 27.59, \"raw\": \"$27.59\"}], \"price\": {\"value\": 27.59, \"raw\": \"$27.59\"}}, {\"position\": 56, \"title\": \"Sandisk Micro SD Card Memory 32GB 64GB 128GB 256GB Class A A1 Cards Lot\", \"epid\": \"305599955353\", \"link\": \"https://www.ebay.com/itm/305599955353\", \"image\": \"https://i.ebayimg.com/images/g/cfoAAOSwcRxmWQS4/s-l140.jpg\", \"condition\": \"Brand New\", \"seller_info\": {\"name\": \"aleksiusells\", \"review_count\": 480, \"positive_feedback_percent\": 99.8}, \"is_auction\": false, \"buy_it_now\": true, \"free_returns\": true, \"sponsored\": true, \"prices\": [{\"value\": 2.49, \"raw\": \"$2.49\"}, {\"value\": 22.99, \"raw\": \"$22.99\"}], \"price\": {\"value\": 2.49, \"raw\": \"$2.49\"}}, {\"position\": 57, \"title\": \"Sandisk Micro SD Card 64GB 128GB 256GB 512GB Extreme Pro Ultra Memory Cards lot\", \"epid\": \"324275407863\", \"link\": \"https://www.ebay.com/itm/324275407863\", \"image\": \"https://i.ebayimg.com/images/g/30wAAOSw0kBieRqi/s-l140.jpg\", \"condition\": \"Brand New\", \"seller_info\": {\"name\": \"memorydiscounters\", \"review_count\": 70823, \"positive_feedback_percent\": 99.9}, \"is_auction\": false, \"buy_it_now\": true, \"free_returns\": true, \"sponsored\": true, \"prices\": [{\"value\": 6.98, \"raw\": \"$6.98\"}, {\"value\": 331.8, \"raw\": \"$331.80\"}], \"price\": {\"value\": 6.98, \"raw\": \"$6.98\"}}, {\"position\": 58, \"title\": \"SanDisk 64GB Ultra Class 10 80MB/S 533X MicroSD Micro SDXC UHS-I TF Memory Card\", \"epid\": \"281632831679\", \"link\": \"https://www.ebay.com/itm/281632831679\", \"image\": \"https://i.ebayimg.com/images/g/yvIAAOSw38Baa4XU/s-l140.jpg\", \"condition\": \"Brand New\", \"seller_info\": {\"name\": \"allizwell2k10\", \"review_count\": 391129, \"positive_feedback_percent\": 99.6}, \"is_auction\": false, \"buy_it_now\": true, \"free_returns\": true, \"rating\": 5, \"ratings_total\": 34, \"sponsored\": true, \"prices\": [{\"value\": 9.75, \"raw\": \"$9.75\"}], \"price\": {\"value\": 9.75, \"raw\": \"$9.75\"}}, {\"position\": 59, \"title\": \"Lot of 5 SanDisk 64GB Ultra Micro SD Flash SDXC Memory Card\", \"epid\": \"285676352424\", \"link\": \"https://www.ebay.com/itm/285676352424\", \"image\": \"https://i.ebayimg.com/images/g/uSgAAOSwKR9lt~e2/s-l140.jpg\", \"condition\": \"Pre-Owned\", \"seller_info\": {\"name\": \"tvo337\", \"review_count\": 855, \"positive_feedback_percent\": 99.6}, \"is_auction\": false, \"buy_it_now\": true, \"free_returns\": false, \"sponsored\": true, \"prices\": [{\"value\": 19.99, \"raw\": \"$19.99\"}], \"price\": {\"value\": 19.99, \"raw\": \"$19.99\"}}, {\"position\": 60, \"title\": \"32GB Sandisk SD Memory Cards for Digital Cameras/Trail Camera/Computers (5 Pack)\", \"epid\": \"275448429791\", \"link\": \"https://www.ebay.com/itm/275448429791\", \"image\": \"https://i.ebayimg.com/images/g/I0oAAOSw7ApjEQjw/s-l140.jpg\", \"condition\": \"Brand New\", \"seller_info\": {\"name\": \"memorydiscounters\", \"review_count\": 70823, \"positive_feedback_percent\": 99.9}, \"is_auction\": false, \"buy_it_now\": true, \"free_returns\": true, \"rating\": 5, \"ratings_total\": 430, \"sponsored\": true, \"prices\": [{\"value\": 29.56, \"raw\": \"$29.56\"}], \"price\": {\"value\": 29.56, \"raw\": \"$29.56\"}}, {\"position\": 61, \"title\": \"Lot of 10 x SanDisk 32GB SDHC Class 4 SD Flash Memory Card Camera SDSDB-032G-B35\", \"epid\": \"332801146571\", \"link\": \"https://www.ebay.com/itm/332801146571\", \"image\": \"https://i.ebayimg.com/images/g/qZAAAOSwXUdblz6a/s-l140.jpg\", \"condition\": \"Brand New\", \"seller_info\": {\"name\": \"allizwell2k10\", \"review_count\": 391129, \"positive_feedback_percent\": 99.6}, \"is_auction\": false, \"buy_it_now\": true, \"free_returns\": true, \"rating\": 4.5, \"ratings_total\": 6, \"sponsored\": true, \"prices\": [{\"value\": 53.99, \"raw\": \"$53.99\"}], \"price\": {\"value\": 53.99, \"raw\": \"$53.99\"}}, {\"position\": 62, \"title\": \"Sandisk EXTREME 64GB microSDXC A2 C10 U3 UHS-I V30 160MB/s MicroSD Memory Card\", \"epid\": \"156484164123\", \"link\": \"https://www.ebay.com/itm/156484164123\", \"image\": \"https://i.ebayimg.com/images/g/QfkAAOSwSPRkGJRY/s-l140.jpg\", \"condition\": \"Brand New\", \"seller_info\": {\"name\": \"onlyonedeal\", \"review_count\": 26729, \"positive_feedback_percent\": 97.7}, \"is_auction\": false, \"buy_it_now\": true, \"free_returns\": true, \"rating\": 5, \"ratings_total\": 7, \"sponsored\": true, \"prices\": [{\"value\": 8.95, \"raw\": \"$8.95\"}], \"price\": {\"value\": 8.95, \"raw\": \"$8.95\"}}, {\"position\": 63, \"title\": \"Sandisk Micro SD Card Ultra Memory Card 16GB 32GB 64GB 128GB 256GB Wholesale lot\", \"epid\": \"324079092298\", \"link\": \"https://www.ebay.com/itm/324079092298\", \"image\": \"https://i.ebayimg.com/images/g/nGoAAOSwcBRieRjL/s-l140.jpg\", \"condition\": \"Brand New\", \"seller_info\": {\"name\": \"memorydiscounters\", \"review_count\": 70823, \"positive_feedback_percent\": 99.9}, \"is_auction\": false, \"buy_it_now\": true, \"free_returns\": true, \"sponsored\": true, \"prices\": [{\"value\": 7.94, \"raw\": \"$7.94\"}, {\"value\": 331.8, \"raw\": \"$331.80\"}], \"price\": {\"value\": 7.94, \"raw\": \"$7.94\"}}, {\"position\": 64, \"title\": \"Sandisk 2Gb Memory Stick Pro Duo Magic Gate Memory card - Black\", \"epid\": \"256406041666\", \"link\": \"https://www.ebay.com/itm/256406041666\", \"image\": \"https://i.ebayimg.com/images/g/hN0AAOSwgF1lxRO5/s-l140.jpg\", \"condition\": \"Pre-Owned\", \"seller_info\": {\"name\": \"mariomansion\", \"review_count\": 22637, \"positive_feedback_percent\": 97}, \"is_auction\": false, \"buy_it_now\": true, \"free_returns\": false, \"sponsored\": true, \"prices\": [{\"value\": 8.95, \"raw\": \"$8.95\"}], \"price\": {\"value\": 8.95, \"raw\": \"$8.95\"}}, {\"position\": 65, \"title\": \"Sandisk SD Memory Cards for CPAP Machines 8GB 16GB 32GB Replacement Lot\", \"epid\": \"325534794922\", \"link\": \"https://www.ebay.com/itm/325534794922\", \"image\": \"https://i.ebayimg.com/images/g/KdcAAOSwTXRj6p~C/s-l140.jpg\", \"condition\": \"Brand New\", \"seller_info\": {\"name\": \"memorydiscounters\", \"review_count\": 70823, \"positive_feedback_percent\": 99.9}, \"is_auction\": false, \"buy_it_now\": true, \"free_returns\": true, \"sponsored\": true, \"prices\": [{\"value\": 7.98, \"raw\": \"$7.98\"}, {\"value\": 53, \"raw\": \"$53.00\"}], \"price\": {\"value\": 7.98, \"raw\": \"$7.98\"}}, {\"position\": 66, \"title\": \"SanDisk 512GB Extreme Pro 200MB/s Micro SD MicroSDXC UHS-I U3 A2 Memory Card\", \"epid\": \"395475100353\", \"link\": \"https://www.ebay.com/itm/395475100353\", \"image\": \"https://i.ebayimg.com/images/g/OEoAAOSwpUlnCdDg/s-l140.jpg\", \"condition\": \"Brand New\", \"seller_info\": {\"name\": \"mengx_19\", \"review_count\": 20, \"positive_feedback_percent\": 91.7}, \"is_auction\": false, \"buy_it_now\": true, \"free_returns\": false, \"rating\": 4, \"ratings_total\": 5, \"sponsored\": true, \"prices\": [{\"value\": 29.55, \"raw\": \"$29.55\"}], \"price\": {\"value\": 29.55, \"raw\": \"$29.55\"}}, {\"position\": 67, \"title\": \"SanDisk SD Flash Memory Card Camera SDHC SDXC 16GB 32GB 64GB Class4 SDSDB By Lot\", \"epid\": \"196196935542\", \"link\": \"https://www.ebay.com/itm/196196935542\", \"image\": \"https://i.ebayimg.com/images/g/RFIAAOSwG8xlqSYX/s-l140.jpg\", \"condition\": \"Brand New\", \"seller_info\": {\"name\": \"gmdbrands\", \"review_count\": 15426, \"positive_feedback_percent\": 99.2}, \"is_auction\": false, \"buy_it_now\": true, \"free_returns\": false, \"sponsored\": true, \"prices\": [{\"value\": 9.99, \"raw\": \"$9.99\"}, {\"value\": 95.99, \"raw\": \"$95.99\"}], \"price\": {\"value\": 9.99, \"raw\": \"$9.99\"}}, {\"position\": 68, \"title\": \"SanDisk 32GB Extreme PRO CompactFlash Memory Card - SDCFXPS-032G-X46\", \"epid\": \"286081569852\", \"link\": \"https://www.ebay.com/itm/286081569852\", \"image\": \"https://i.ebayimg.com/images/g/rbUAAOSwYtNm9zB4/s-l140.jpg\", \"condition\": \"Brand New\", \"seller_info\": {\"name\": \"sandisktechnologies\", \"review_count\": 25, \"positive_feedback_percent\": 100}, \"is_auction\": false, \"buy_it_now\": true, \"free_returns\": true, \"sponsored\": true, \"prices\": [{\"value\": 39.99, \"raw\": \"$39.99\"}], \"price\": {\"value\": 39.99, \"raw\": \"$39.99\"}}], \"search_information\": {\"original_search_term\": \"SanDisk memory cards\"}, \"facets\": [{\"display_name\": \"Storage Capacity\", \"values\": [{\"name\": \"128 GB\", \"param_value\": \"facets=Storage%2520Capacity=128+GB\", \"count\": 2783}, {\"name\": \"32 GB\", \"param_value\": \"facets=Storage%2520Capacity=32+GB\", \"count\": 2644}, {\"name\": \"64 GB\", \"param_value\": \"facets=Storage%2520Capacity=64+GB\", \"count\": 2148}, {\"name\": \"256 GB\", \"param_value\": \"facets=Storage%2520Capacity=256+GB\", \"count\": 1110}, {\"name\": \"512 GB\", \"param_value\": \"facets=Storage%2520Capacity=512+GB\", \"count\": 1129}, {\"name\": \"1TB\", \"param_value\": \"facets=Storage%2520Capacity=1TB\", \"count\": 215}, {\"name\": \"16 GB\", \"param_value\": \"facets=Storage%2520Capacity=16+GB\", \"count\": 1614}, {\"name\": \"400GB\", \"param_value\": \"facets=Storage%2520Capacity=400GB\", \"count\": 1490}], \"name\": \"Storage%2520Capacity\"}, {\"display_name\": \"Format\", \"values\": [{\"name\": \"MicroSD\", \"param_value\": \"facets=Format=MicroSD\", \"count\": 3688}, {\"name\": \"microSDXC\", \"param_value\": \"facets=Format=microSDXC\", \"count\": 5004}, {\"name\": \"MicroSDHC\", \"param_value\": \"facets=Format=MicroSDHC\", \"count\": 3093}, {\"name\": \"SD\", \"param_value\": \"facets=Format=SD\", \"count\": 209}, {\"name\": \"microSDXC UHS-I\", \"param_value\": \"facets=Format=microSDXC+UHS-I\", \"count\": 1384}, {\"name\": \"SDHC\", \"param_value\": \"facets=Format=SDHC\", \"count\": 408}, {\"name\": \"SDXC\", \"param_value\": \"facets=Format=SDXC\", \"count\": 379}, {\"name\": \"microSDHC UHS-I\", \"param_value\": \"facets=Format=microSDHC+UHS-I\", \"count\": 170}], \"name\": \"Format\"}, {\"display_name\": \"Speed Class\", \"values\": [{\"name\": \"Class 10\", \"param_value\": \"facets=Speed%2520Class=Class+10\", \"count\": 10874}, {\"name\": \"UHS Speed Class 3\", \"param_value\": \"facets=Speed%2520Class=UHS+Speed+Class+3\", \"count\": 244}, {\"name\": \"A1\", \"param_value\": \"facets=Speed%2520Class=A1\", \"count\": 919}, {\"name\": \"Class 4\", \"param_value\": \"facets=Speed%2520Class=Class+4\", \"count\": 450}, {\"name\": \"UHS Speed Class 1\", \"param_value\": \"facets=Speed%2520Class=UHS+Speed+Class+1\", \"count\": 287}, {\"name\": \"Class 2\", \"param_value\": \"facets=Speed%2520Class=Class+2\", \"count\": 57}, {\"name\": \"Class 3\", \"param_value\": \"facets=Speed%2520Class=Class+3\", \"count\": 40}, {\"name\": \"Class 1\", \"param_value\": \"facets=Speed%2520Class=Class+1\", \"count\": 22}], \"name\": \"Speed%2520Class\"}, {\"display_name\": \"Features\", \"values\": [{\"name\": \"High Speed\", \"param_value\": \"facets=Features=High+Speed\", \"count\": 11557}, {\"name\": \"High Capacity\", \"param_value\": \"facets=Features=High+Capacity\", \"count\": 9449}, {\"name\": \"Waterproof\", \"param_value\": \"facets=Features=Waterproof\", \"count\": 3055}, {\"name\": \"Wi-Fi\", \"param_value\": \"facets=Features=Wi-Fi\", \"count\": 61}, {\"name\": \"Not Specified\", \"param_value\": \"facets=Features=Not+Specified\", \"count\": 2520}], \"name\": \"Features\"}, {\"display_name\": \"Compatible Brand\", \"values\": [{\"name\": \"Universal\", \"param_value\": \"facets=Compatible%2520Brand=Universal\", \"count\": 3992}, {\"name\": \"For Samsung\", \"param_value\": \"facets=Compatible%2520Brand=For+Samsung\", \"count\": 1167}, {\"name\": \"For LG\", \"param_value\": \"facets=Compatible%2520Brand=For+LG\", \"count\": 944}, {\"name\": \"For Sony\", \"param_value\": \"facets=Compatible%2520Brand=For+Sony\", \"count\": 620}, {\"name\": \"For Motorola\", \"param_value\": \"facets=Compatible%2520Brand=For+Motorola\", \"count\": 546}, {\"name\": \"For Nokia\", \"param_value\": \"facets=Compatible%2520Brand=For+Nokia\", \"count\": 542}, {\"name\": \"For Universal\", \"param_value\": \"facets=Compatible%2520Brand=For+Universal\", \"count\": 512}, {\"name\": \"For BlackBerry\", \"param_value\": \"facets=Compatible%2520Brand=For+BlackBerry\", \"count\": 426}], \"name\": \"Compatible%2520Brand\"}, {\"display_name\": \"Compatible Model\", \"values\": [{\"name\": \"Universal\", \"param_value\": \"facets=Compatible%2520Model=Universal\", \"count\": 3570}, {\"name\": \"For Alcatel Fierce XL\", \"param_value\": \"facets=Compatible%2520Model=For+Alcatel+Fierce+XL\", \"count\": 85}, {\"name\": \"For Alcatel 991\", \"param_value\": \"facets=Compatible%2520Model=For+Alcatel+991\", \"count\": 78}, {\"name\": \"For Alcatel A3\", \"param_value\": \"facets=Compatible%2520Model=For+Alcatel+A3\", \"count\": 75}, {\"name\": \"For Alcatel A5 LED\", \"param_value\": \"facets=Compatible%2520Model=For+Alcatel+A5+LED\", \"count\": 73}, {\"name\": \"For Alcatel Fire 2 3.5\", \"param_value\": \"facets=Compatible%2520Model=For+Alcatel+Fire+2+3.5\", \"count\": 69}, {\"name\": \"For Alcatel Fire C 2G\", \"param_value\": \"facets=Compatible%2520Model=For+Alcatel+Fire+C+2G\", \"count\": 67}, {\"name\": \"For Samsung Galaxy S7\", \"param_value\": \"facets=Compatible%2520Model=For+Samsung+Galaxy+S7\", \"count\": 54}], \"name\": \"Compatible%2520Model\"}, {\"display_name\": \"Brand\", \"values\": [{\"name\": \"SanDisk\", \"param_value\": \"facets=Brand=SanDisk\", \"count\": 7592}, {\"name\": \"Kingston\", \"param_value\": \"facets=Brand=Kingston\", \"count\": 54}, {\"name\": \"Unbranded\", \"param_value\": \"facets=Brand=Unbranded\", \"count\": 149}, {\"name\": \"Ultra\", \"param_value\": \"facets=Brand=Ultra\", \"count\": 15}, {\"name\": \"Western Digital\", \"param_value\": \"facets=Brand=Western+Digital\", \"count\": 15}, {\"name\": \"Scandisk\", \"param_value\": \"facets=Brand=Scandisk\", \"count\": 9}, {\"name\": \"Transcend\", \"param_value\": \"facets=Brand=Transcend\", \"count\": 8}, {\"name\": \"ADATA\", \"param_value\": \"facets=Brand=ADATA\", \"count\": 7}], \"name\": \"Brand\"}, {\"display_name\": \"Show only\", \"values\": [{\"name\": \"Free Returns\", \"param_value\": \"facets=LH_FR=Free+Returns\"}, {\"name\": \"Returns Accepted\", \"param_value\": \"facets=LH_FR=Returns+Accepted\"}, {\"name\": \"Authorized Seller\", \"param_value\": \"facets=LH_FR=Authorized+Seller\"}, {\"name\": \"Completed Items\", \"param_value\": \"facets=LH_FR=Completed+Items\"}, {\"name\": \"Sold Items\", \"param_value\": \"facets=LH_FR=Sold+Items\"}, {\"name\": \"Deals & Savings\", \"param_value\": \"facets=LH_FR=Deals+&+Savings\"}, {\"name\": \"Authenticity Guarantee\", \"param_value\": \"facets=LH_FR=Authenticity+Guarantee\"}], \"name\": \"LH_FR\"}], \"pagination\": {\"has_next_page\": true, \"next_page\": 2, \"current_page\": 1, \"total_results\": 12000}}\n",
      "==================================\u001b[1m Ai Message \u001b[0m==================================\n",
      "\n",
      "Here are some SanDisk memory cards available on eBay, along with their prices and links:\n",
      "\n",
      "1. **Sandisk Micro SD Card 128GB 256GB Extreme Pro Ultra Memory Cards lot 170MB/s USA**\n",
      "   - Price: $13.99\n",
      "   - [Link](https://www.ebay.com/itm/146020353000)\n",
      "   - ![Image](https://i.ebayimg.com/images/g/OwMAAOSwqAZm4kTV/s-l500.jpg)\n",
      "\n",
      "2. **SanDisk 256GB Extreme PRO® SDHC™ And SDXC™ UHS-I Card - SDSDXXD-256G-GN4IN**\n",
      "   - Price: $34.99\n",
      "   - [Link](https://www.ebay.com/itm/286081570020)\n",
      "   - ![Image](https://i.ebayimg.com/images/g/KUIAAOSw6a5m9zD5/s-l500.jpg)\n",
      "\n",
      "3. **Sandisk Micro SD Card 128GB 256GB Extreme Pro Ultra Memory Cards lot 170MB/s**\n",
      "   - Price: $13.99\n",
      "   - [Link](https://www.ebay.com/itm/204330992757)\n",
      "   - ![Image](https://i.ebayimg.com/images/g/el8AAOSwyBhkFCrG/s-l140.jpg)\n",
      "\n",
      "4. **SanDisk 256GB Extreme PRO SDXC UHS-II Memory Card - SDSDXEP-256G-GN4IN**\n",
      "   - Price: $69.99\n",
      "   - [Link](https://www.ebay.com/itm/286081569985)\n",
      "   - ![Image](https://i.ebayimg.com/images/g/Dj4AAOSwZGdm9zBw/s-l140.jpg)\n",
      "\n",
      "5. **Pack of 10 Genuine SanDisk 16GB Class 4 SD SDHC Flash Memory Card SDSDB-016G lot**\n",
      "   - Price: $39.97\n",
      "   - [Link](https://www.ebay.com/itm/405071797164)\n",
      "   - ![Image](https://i.ebayimg.com/images/g/lRAAAOSwY4FgrXH8/s-l140.jpg)\n",
      "\n",
      "6. **Lot of 2 SanDisk 32GB = 64GB SD SDHC Class 4 Camera Flash Memory Card SDSDB-032G**\n",
      "   - Price: $12.99\n",
      "   - [Link](https://www.ebay.com/itm/331634660766)\n",
      "   - ![Image](https://i.ebayimg.com/images/g/IRMAAOSw3ydV183w/s-l140.jpg)\n",
      "\n",
      "7. **SanDisk 32GB Ultra SDHC UHS-I Memory Card Class 10 120 MB/s Full HD Camera**\n",
      "   - Price: $7.80\n",
      "   - [Link](https://www.ebay.com/itm/193904175450)\n",
      "   - ![Image](https://i.ebayimg.com/images/g/5dsAAOSwCeRgyfwN/s-l140.jpg)\n",
      "\n",
      "8. **SanDisk 128GB Ultra microSDXC UHS-I Memory Card 100Mb/s -  SDSQUAR-128G-GN6MA**\n",
      "   - Price: $9.99\n",
      "   - [Link](https://www.ebay.com/itm/156413276779)\n",
      "   - ![Image](https://i.ebayimg.com/images/g/dAYAAOSw8Idm37LO/s-l140.jpg)\n",
      "\n",
      "9. **SanDisk ExtremePro 64GB CF memory card SDCFXPS-064G G Extreme Pro 64 GB 160MB/s**\n",
      "   - Price: $34.99\n",
      "   - [Link](https://www.ebay.com/itm/404856030762)\n",
      "   - ![Image](https://i.ebayimg.com/images/g/Om4AAOSwHnFVpn1v/s-l140.jpg)\n",
      "\n",
      "10. **SanDisk 32GB Ultra SDHC UHS-I Memory Card Class 10 120 MB/s Full HD Camera**\n",
      "    - Price: $7.80\n",
      "    - [Link](https://www.ebay.com/itm/193904175450)\n",
      "    - ![Image](https://i.ebayimg.com/images/g/5dsAAOSwCeRgyfwN/s-l140.jpg)\n",
      "\n",
      "You can explore more options and details by visiting the [eBay search page for SanDisk memory cards](https://www.ebay.com/sch/i.html?_nkw=SanDisk+memory+cards&_sacat=0&_dmd=1&_fcid=1).\n"
     ]
    }
   ],
   "source": [
    "inputs = {\"messages\": [(\"user\", QUESTION)]}\n",
    "\n",
    "print_stream(graph.stream(inputs, stream_mode=\"values\"))"
   ]
  },
  {
   "cell_type": "markdown",
   "id": "56cbc405-26e2-471e-9626-2a0df07f5ddc",
   "metadata": {},
   "source": [
    "# Summary"
   ]
  },
  {
   "cell_type": "markdown",
   "id": "7381ea5f-7269-4e1f-8b0c-1e2c04bd84c0",
   "metadata": {},
   "source": [
    "In this notebook, we learned about how to create very smart API agents for simple or complex APIs that use Swagger or OpenAPI specifications.\n",
    "We see, again, that the key to success is to use: Agents with Expert tools + GPT-4 + good prompts.\n",
    "\n",
    "As homework, try to create a shopping assistant for Etsy e-commerce site using the following API spec: (you will need to register for free and create an API-Key)\n",
    "\n",
    "- https://developers.etsy.com/documentation/\n",
    "- https://www.etsy.com/openapi/generated/oas/3.0.0.json"
   ]
  },
  {
   "cell_type": "markdown",
   "id": "02073623-91b4-40d6-8eaf-cb6d9c6a7a9a",
   "metadata": {},
   "source": [
    "# NEXT\n",
    "\n",
    "The Next Notebook will guide you on how we stick everything together. How do we use the features of all notebooks and create a brain agent that can respond to any request accordingly."
   ]
  },
  {
   "cell_type": "code",
   "execution_count": null,
   "id": "32a33c2f-9487-4996-9da8-f57f0f1f314c",
   "metadata": {},
   "outputs": [],
   "source": []
  }
 ],
 "metadata": {
  "kernelspec": {
   "display_name": "Python 3.10 - SDK v2",
   "language": "python",
   "name": "python310-sdkv2"
  },
  "language_info": {
   "codemirror_mode": {
    "name": "ipython",
    "version": 3
   },
   "file_extension": ".py",
   "mimetype": "text/x-python",
   "name": "python",
   "nbconvert_exporter": "python",
   "pygments_lexer": "ipython3",
   "version": "3.10.14"
  }
 },
 "nbformat": 4,
 "nbformat_minor": 5
}
